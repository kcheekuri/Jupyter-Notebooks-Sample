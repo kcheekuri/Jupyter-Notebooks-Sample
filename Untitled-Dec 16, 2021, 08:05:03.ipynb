{
  "cells": [
    {
      "cell_type": "code",
      "source": [
        "2+4"
      ],
      "outputs": [
        {
          "output_type": "execute_result",
          "execution_count": 1,
          "data": {
            "text/plain": "6"
          },
          "metadata": {}
        }
      ],
      "execution_count": 1,
      "metadata": {
        "collapsed": true,
        "jupyter": {
          "source_hidden": false,
          "outputs_hidden": false
        },
        "nteract": {
          "transient": {
            "deleting": false
          }
        },
        "execution": {
          "iopub.status.busy": "2022-04-11T19:00:39.827Z",
          "iopub.execute_input": "2022-04-11T19:00:39.863Z",
          "shell.execute_reply": "2022-04-11T19:00:39.938Z",
          "iopub.status.idle": "2022-04-11T19:00:39.983Z"
        }
      }
    }
  ],
  "metadata": {
    "language_info": {
      "name": "python",
      "version": "3.7",
      "mimetype": "application/json",
      "file_extension": "ipynb"
    },
    "nteract": {
      "version": "dataExplorer 1.0"
    }
  },
  "nbformat": 4,
  "nbformat_minor": 0
}