{
  "cells": [
    {
      "cell_type": "code",
      "execution_count": 1,
      "id": "74ab6ae3-a3c0-4a38-b68d-b31b2c689237",
      "metadata": {
        "collapsed": true,
        "execution": {
          "iopub.execute_input": "2021-08-30T17:02:01.754Z",
          "iopub.status.busy": "2021-08-30T17:02:01.577Z",
          "iopub.status.idle": "2021-08-30T17:02:02.010Z",
          "shell.execute_reply": "2021-08-30T17:02:02.442Z"
        },
        "jupyter": {
          "outputs_hidden": false,
          "source_hidden": false
        },
        "nteract": {
          "transient": {
            "deleting": false
          }
        },
        "trusted": false
      },
      "outputs": [
        {
          "data": {
            "text/plain": "2"
          },
          "execution_count": 1,
          "metadata": {},
          "output_type": "execute_result"
        }
      ],
      "source": "1+1"
    }
  ],
  "metadata": {
    "language_info": {
      "file_extension": "ipynb",
      "mimetype": "application/json",
      "name": "python",
      "version": "3.7"
    },
    "nteract": {
      "version": "dataExplorer 1.0"
    }
  },
  "nbformat": 4,
  "nbformat_minor": 5
}